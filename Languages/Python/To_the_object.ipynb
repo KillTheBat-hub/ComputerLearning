{
 "cells": [
  {
   "cell_type": "markdown",
   "metadata": {},
   "source": [
    "## Object对象"
   ]
  },
  {
   "cell_type": "markdown",
   "metadata": {},
   "source": [
    "python中所有的数据都是object，包含3个方面：**值**--内容，**数据类型**type()，**地址**id()--单独分配的存储空间\n",
    "\n",
    "“对象”实在是一个难以理解的译名，实际上它指代的一种“东西”，就比如你可能会问：“python的object具体指什么**东西**呢？”就是此句中这个“东西”的用法，你不知道它具体指什么，但是它可以指代所有的现实世界中的存在。object描述python世界里的“东西”，它们都具有上述的三个方面的属性。\n",
    "\n",
    "事实上也可以体会到计算机的世界：**所有都是要预先设定的，不设定计算机就不会做**；我们习以为常、随手可写的的数字也是要设定的（设定数据类型），存储在哪、怎样查找也是必须要考虑的（地址id）。"
   ]
  },
  {
   "cell_type": "code",
   "execution_count": 3,
   "metadata": {},
   "outputs": [
    {
     "name": "stdout",
     "output_type": "stream",
     "text": [
      "<class 'int'> 2002628864\n",
      "<class 'str'> 2642637682672\n"
     ]
    }
   ],
   "source": [
    "print(type(2),id(2))\n",
    "print(type('hello world'),id('hello,world'))"
   ]
  },
  {
   "cell_type": "markdown",
   "metadata": {},
   "source": [
    "一个例外：没有值的object--None"
   ]
  },
  {
   "cell_type": "code",
   "execution_count": 24,
   "metadata": {},
   "outputs": [
    {
     "data": {
      "text/plain": [
       "NoneType"
      ]
     },
     "execution_count": 24,
     "metadata": {},
     "output_type": "execute_result"
    }
   ],
   "source": [
    "# None没有值，数据类型也独一份\n",
    "type(None)"
   ]
  },
  {
   "cell_type": "markdown",
   "metadata": {},
   "source": [
    "### 地址分配"
   ]
  },
  {
   "cell_type": "code",
   "execution_count": 18,
   "metadata": {},
   "outputs": [
    {
     "name": "stdout",
     "output_type": "stream",
     "text": [
      "2002636992\n",
      "2002636992\n",
      "2642637600592\n",
      "2642637601200\n"
     ]
    }
   ],
   "source": [
    "# int型：256以下有预先设定好的内存（不变的），而大于256的数值每次随机分配内存:\n",
    "print(id(256))\n",
    "print(id(256))\n",
    "print(id(257))\n",
    "print(id(257))"
   ]
  },
  {
   "cell_type": "code",
   "execution_count": 21,
   "metadata": {
    "scrolled": false
   },
   "outputs": [
    {
     "name": "stdout",
     "output_type": "stream",
     "text": [
      "2642619702272\n",
      "2642619702296\n",
      "2642619702704\n",
      "2642619702824\n"
     ]
    }
   ],
   "source": [
    "# float型：随机分配？？\n",
    "print(id(1.000))\n",
    "print(id(1.000))\n",
    "print(id(1.001))\n",
    "print(id(1.001))"
   ]
  },
  {
   "cell_type": "code",
   "execution_count": 27,
   "metadata": {},
   "outputs": [
    {
     "name": "stdout",
     "output_type": "stream",
     "text": [
      "2002119088\n",
      "2002119088\n",
      "2002119120\n",
      "2002119120\n",
      "2002119088\n"
     ]
    }
   ],
   "source": [
    "# bool型：预先设定\n",
    "print(id(True))\n",
    "print(id(True))\n",
    "print(id(False))\n",
    "print(id(False))"
   ]
  },
  {
   "cell_type": "code",
   "execution_count": 51,
   "metadata": {},
   "outputs": [
    {
     "name": "stdout",
     "output_type": "stream",
     "text": [
      "2642638412912\n",
      "2642638412912\n",
      "2642638412128\n",
      "2642638412128\n",
      "2642638200496\n",
      "2642638432176\n",
      "\n",
      "\n",
      "2642638432112\n",
      "2642638432240\n",
      "2642638410280\n",
      "2642638410280\n",
      "2642638431344\n",
      "2642638431344\n"
     ]
    }
   ],
   "source": [
    "# str型：单字预先设定，组合随机分配 ？？\n",
    "print(id('hello'))\n",
    "print(id('hello'))\n",
    "print(id('world'))\n",
    "print(id('world'))\n",
    "print(id('hello world'))\n",
    "print(id('hello world'))\n",
    "print('\\n')\n",
    "print(id('San Francisco'))\n",
    "print(id('San Francisco'))\n",
    "print(id('San'))\n",
    "print(id('San'))\n",
    "print(id('Francisco'))\n",
    "print(id('Francisco'))\n",
    "#看来即便是常用词，也会算作组合词"
   ]
  },
  {
   "cell_type": "code",
   "execution_count": 53,
   "metadata": {},
   "outputs": [
    {
     "name": "stdout",
     "output_type": "stream",
     "text": [
      "2642637602096 2642637602096\n"
     ]
    },
    {
     "data": {
      "text/plain": [
       "True"
      ]
     },
     "execution_count": 53,
     "metadata": {},
     "output_type": "execute_result"
    }
   ],
   "source": [
    "#一个有意思的现象\n",
    "print(id(1000),id(1000))\n",
    "id(1000)==id(1000"
   ]
  },
  {
   "cell_type": "code",
   "execution_count": 61,
   "metadata": {},
   "outputs": [
    {
     "name": "stdout",
     "output_type": "stream",
     "text": [
      "False\n",
      "True\n",
      "True\n",
      "True\n"
     ]
    }
   ],
   "source": []
  },
  {
   "cell_type": "code",
   "execution_count": 60,
   "metadata": {},
   "outputs": [
    {
     "data": {
      "text/plain": [
       "True"
      ]
     },
     "execution_count": 60,
     "metadata": {},
     "output_type": "execute_result"
    }
   ],
   "source": []
  },
  {
   "cell_type": "code",
   "execution_count": null,
   "metadata": {},
   "outputs": [],
   "source": []
  },
  {
   "cell_type": "code",
   "execution_count": null,
   "metadata": {},
   "outputs": [],
   "source": []
  },
  {
   "cell_type": "code",
   "execution_count": null,
   "metadata": {},
   "outputs": [],
   "source": []
  },
  {
   "cell_type": "code",
   "execution_count": null,
   "metadata": {},
   "outputs": [],
   "source": []
  },
  {
   "cell_type": "code",
   "execution_count": null,
   "metadata": {},
   "outputs": [],
   "source": []
  },
  {
   "cell_type": "markdown",
   "metadata": {},
   "source": [
    "### 变量（名）"
   ]
  },
  {
   "cell_type": "markdown",
   "metadata": {},
   "source": [
    "当我们对object进行操作时，记住每个id地址是不现实的，实际办法是：给它们起名字。就像人类婴儿需要起名字而不是起全球人口数编号一样（笑）。\n",
    "\n",
    "格式：**变量名 = 对象**"
   ]
  },
  {
   "cell_type": "code",
   "execution_count": null,
   "metadata": {},
   "outputs": [],
   "source": []
  },
  {
   "cell_type": "code",
   "execution_count": null,
   "metadata": {},
   "outputs": [],
   "source": []
  },
  {
   "cell_type": "markdown",
   "metadata": {},
   "source": [
    "### Class"
   ]
  },
  {
   "cell_type": "code",
   "execution_count": 1,
   "metadata": {},
   "outputs": [
    {
     "name": "stdout",
     "output_type": "stream",
     "text": [
      "you can sing well\n",
      "you can play basketball\n",
      "girls're all like you\n"
     ]
    }
   ],
   "source": [
    "# 上帝造人：class类（人），instance实例（张三李四），属性（身高，体重，年龄）;  技能（吃喝玩乐）需要定义\n",
    "\n",
    "class Person(object): # class名首字母大写\n",
    "    \n",
    "    def __init__(self,hight,weight,age):    #属性初始化，属性第一个必须是self\n",
    "        self.hight = hight      \n",
    "        self.weight = weight\n",
    "        self.age = age       #将后面定义的属性指明归属，连接到self上\n",
    "   \n",
    "\n",
    "#定义特殊技能           \n",
    "    def basketball(self):\n",
    "        print('you can play basketball')\n",
    "    \n",
    "    def sing(self):\n",
    "        print('you can sing well')\n",
    "    \n",
    "    def girls(self):\n",
    "        print('girls\\'re all like you')\n",
    "\n",
    "#创建instance，注意缩进跳出class-defining过程\n",
    "zhangsan = Person(177,80,42)\n",
    "lisi = Person(182,65,20)\n",
    "\n",
    "#指定instance的技能\n",
    "zhangsan.sing()\n",
    "lisi.basketball()\n",
    "lisi.girls()"
   ]
  },
  {
   "cell_type": "code",
   "execution_count": 5,
   "metadata": {},
   "outputs": [
    {
     "name": "stdout",
     "output_type": "stream",
     "text": [
      "you can sing well\n"
     ]
    },
    {
     "ename": "ValueError",
     "evalue": "incomplete format",
     "output_type": "error",
     "traceback": [
      "\u001b[1;31m---------------------------------------------------------------------------\u001b[0m",
      "\u001b[1;31mValueError\u001b[0m                                Traceback (most recent call last)",
      "\u001b[1;32m<ipython-input-5-581b5529b4a1>\u001b[0m in \u001b[0;36m<module>\u001b[1;34m\u001b[0m\n\u001b[0;32m      1\u001b[0m \u001b[1;31m#注意到一个奇怪现象\u001b[0m\u001b[1;33m\u001b[0m\u001b[1;33m\u001b[0m\u001b[1;33m\u001b[0m\u001b[0m\n\u001b[1;32m----> 2\u001b[1;33m \u001b[1;33m(\u001b[0m\u001b[1;34m'zhangsan skills:%'\u001b[0m \u001b[1;33m%\u001b[0m \u001b[1;33m(\u001b[0m\u001b[0mzhangsan\u001b[0m\u001b[1;33m.\u001b[0m\u001b[0msing\u001b[0m\u001b[1;33m(\u001b[0m\u001b[1;33m)\u001b[0m\u001b[1;33m)\u001b[0m\u001b[1;33m)\u001b[0m\u001b[1;33m\u001b[0m\u001b[1;33m\u001b[0m\u001b[0m\n\u001b[0m",
      "\u001b[1;31mValueError\u001b[0m: incomplete format"
     ]
    }
   ],
   "source": [
    "#注意到一个奇怪现象\n",
    "('zhangsan skills:%'%(zhangsan.sing()))"
   ]
  },
  {
   "cell_type": "code",
   "execution_count": null,
   "metadata": {},
   "outputs": [],
   "source": []
  },
  {
   "cell_type": "code",
   "execution_count": null,
   "metadata": {},
   "outputs": [],
   "source": []
  },
  {
   "cell_type": "code",
   "execution_count": null,
   "metadata": {},
   "outputs": [],
   "source": []
  },
  {
   "cell_type": "code",
   "execution_count": null,
   "metadata": {},
   "outputs": [],
   "source": []
  },
  {
   "cell_type": "code",
   "execution_count": null,
   "metadata": {},
   "outputs": [],
   "source": []
  },
  {
   "cell_type": "code",
   "execution_count": null,
   "metadata": {},
   "outputs": [],
   "source": []
  }
 ],
 "metadata": {
  "kernelspec": {
   "display_name": "Python 3",
   "language": "python",
   "name": "python3"
  },
  "language_info": {
   "codemirror_mode": {
    "name": "ipython",
    "version": 3
   },
   "file_extension": ".py",
   "mimetype": "text/x-python",
   "name": "python",
   "nbconvert_exporter": "python",
   "pygments_lexer": "ipython3",
   "version": "3.6.9"
  }
 },
 "nbformat": 4,
 "nbformat_minor": 2
}
