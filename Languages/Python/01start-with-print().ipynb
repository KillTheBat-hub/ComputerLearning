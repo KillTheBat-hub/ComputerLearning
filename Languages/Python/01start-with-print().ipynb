{
 "cells": [
  {
   "cell_type": "markdown",
   "metadata": {},
   "source": [
    "print()\n",
    "\n",
    "数据类型\n"
   ]
  },
  {
   "cell_type": "code",
   "execution_count": 1,
   "metadata": {},
   "outputs": [
    {
     "name": "stdout",
     "output_type": "stream",
     "text": [
      "The Zen of Python, by Tim Peters\n",
      "\n",
      "Beautiful is better than ugly.\n",
      "Explicit is better than implicit.\n",
      "Simple is better than complex.\n",
      "Complex is better than complicated.\n",
      "Flat is better than nested.\n",
      "Sparse is better than dense.\n",
      "Readability counts.\n",
      "Special cases aren't special enough to break the rules.\n",
      "Although practicality beats purity.\n",
      "Errors should never pass silently.\n",
      "Unless explicitly silenced.\n",
      "In the face of ambiguity, refuse the temptation to guess.\n",
      "There should be one-- and preferably only one --obvious way to do it.\n",
      "Although that way may not be obvious at first unless you're Dutch.\n",
      "Now is better than never.\n",
      "Although never is often better than *right* now.\n",
      "If the implementation is hard to explain, it's a bad idea.\n",
      "If the implementation is easy to explain, it may be a good idea.\n",
      "Namespaces are one honking great idea -- let's do more of those!\n"
     ]
    }
   ],
   "source": [
    "import this  #著名的python之禅"
   ]
  },
  {
   "cell_type": "code",
   "execution_count": 5,
   "metadata": {},
   "outputs": [
    {
     "name": "stdout",
     "output_type": "stream",
     "text": [
      "Hello world!\n"
     ]
    }
   ],
   "source": [
    "import __hello__ #h所有语言学习的开端 hello world"
   ]
  },
  {
   "cell_type": "markdown",
   "metadata": {},
   "source": [
    "# 从print()说起"
   ]
  },
  {
   "cell_type": "markdown",
   "metadata": {},
   "source": [
    "无论你看得懂还是看不懂：请搜索几段python代码，极大可能你会看到 print()<br/>\n",
    "print() 堪称最常见的函数，最最常见的是直接把内容罗列在print()内，<br/>\n",
    "可以是字符串："
   ]
  },
  {
   "cell_type": "code",
   "execution_count": null,
   "metadata": {},
   "outputs": [],
   "source": [
    "print('hello world')"
   ]
  },
  {
   "cell_type": "markdown",
   "metadata": {},
   "source": [
    "可以是数字及其运算："
   ]
  },
  {
   "cell_type": "code",
   "execution_count": null,
   "metadata": {},
   "outputs": [],
   "source": [
    "print(3)\n",
    "print(0.29833**5)"
   ]
  },
  {
   "cell_type": "markdown",
   "metadata": {},
   "source": [
    "也可以是变量："
   ]
  },
  {
   "cell_type": "code",
   "execution_count": null,
   "metadata": {},
   "outputs": [],
   "source": [
    "print(a,b)"
   ]
  },
  {
   "cell_type": "markdown",
   "metadata": {},
   "source": [
    "ps:请注意\n",
    "\n",
    "全部使用**英文字符**；\n",
    "\n",
    "区分**大小写**；\n",
    "\n",
    "不要随便空格/tab，因为python根据**缩进判断逻辑**"
   ]
  },
  {
   "cell_type": "markdown",
   "metadata": {},
   "source": [
    "## 变量"
   ]
  },
  {
   "cell_type": "markdown",
   "metadata": {},
   "source": [
    "variable_set = value,这就完成了一个变量和它的赋值。<br/>\n",
    "左侧name，右侧project，左侧有命名规范，右侧是各种python数据类型。<br/>"
   ]
  },
  {
   "cell_type": "markdown",
   "metadata": {},
   "source": [
    "### 变量命名规范"
   ]
  },
  {
   "cell_type": "markdown",
   "metadata": {},
   "source": [
    "......（硬性规定与软性建议-参考万门，比如上文的a,b很容易忘了它的含义）"
   ]
  },
  {
   "cell_type": "code",
   "execution_count": 2,
   "metadata": {
    "scrolled": true
   },
   "outputs": [
    {
     "ename": "SyntaxError",
     "evalue": "invalid syntax (<ipython-input-2-0bae6f6fd392>, line 1)",
     "output_type": "error",
     "traceback": [
      "\u001b[1;36m  File \u001b[1;32m\"<ipython-input-2-0bae6f6fd392>\"\u001b[1;36m, line \u001b[1;32m1\u001b[0m\n\u001b[1;33m    4 plus iphone = 5000\u001b[0m\n\u001b[1;37m         ^\u001b[0m\n\u001b[1;31mSyntaxError\u001b[0m\u001b[1;31m:\u001b[0m invalid syntax\n"
     ]
    }
   ],
   "source": [
    "4 plus iphone = 5000"
   ]
  },
  {
   "cell_type": "markdown",
   "metadata": {},
   "source": [
    "## python数据类型"
   ]
  },
  {
   "cell_type": "markdown",
   "metadata": {},
   "source": [
    "- string(字符串)\n",
    "- numbers(数字)\n",
    "- list(列表)\n",
    "- tuple(元祖)\n",
    "- dictionary(字典)    ---补充哪些是可变的；查询ID的函数以及其他查询函数"
   ]
  },
  {
   "cell_type": "markdown",
   "metadata": {},
   "source": [
    "由于string，list，tuple和dict有某些相似或者有关联的性质，所以放在一起介绍；numbers留到后一节继续。"
   ]
  },
  {
   "cell_type": "code",
   "execution_count": 3,
   "metadata": {},
   "outputs": [
    {
     "data": {
      "text/plain": [
       "str"
      ]
     },
     "execution_count": 3,
     "metadata": {},
     "output_type": "execute_result"
    }
   ],
   "source": [
    "#查询数据类型\n",
    "hello = 'hello world'\n",
    "type(hello)"
   ]
  },
  {
   "cell_type": "code",
   "execution_count": null,
   "metadata": {},
   "outputs": [],
   "source": []
  },
  {
   "cell_type": "markdown",
   "metadata": {},
   "source": [
    "### 可变与不可变"
   ]
  },
  {
   "cell_type": "markdown",
   "metadata": {},
   "source": [
    "可变的类型有：\n",
    "不可变的类型有：\n",
    "为什么？事实上，当我们说“不可变”的时候，我们在说什么？ <br/>\n",
    "先看一个str类型（不可变）的例子："
   ]
  },
  {
   "cell_type": "code",
   "execution_count": 13,
   "metadata": {},
   "outputs": [
    {
     "data": {
      "text/plain": [
       "(2217088981904, 2217088981904)"
      ]
     },
     "execution_count": 13,
     "metadata": {},
     "output_type": "execute_result"
    }
   ],
   "source": [
    "hello =\"Hello!\"\n",
    "say_hello = hello\n",
    "id(hello),id(say_hello)"
   ]
  },
  {
   "cell_type": "code",
   "execution_count": 14,
   "metadata": {},
   "outputs": [
    {
     "data": {
      "text/plain": [
       "(2217094167664, 2217088981904)"
      ]
     },
     "execution_count": 14,
     "metadata": {},
     "output_type": "execute_result"
    }
   ],
   "source": [
    "hello = 'Bye now!'\n",
    "id(hello),id(say_hello)    # id函数查询地址"
   ]
  },
  {
   "cell_type": "markdown",
   "metadata": {},
   "source": [
    "事实上，变量hello的新内容 'Bye now!'被储存在一个新的id地址，hello 重新关联到一个新地址上，而非在原地址内存上进行修改"
   ]
  },
  {
   "cell_type": "markdown",
   "metadata": {},
   "source": [
    "https://www.zhihu.com/question/25090486  \n",
    "原理：题外话C系语言，对比来看：python实际上并没有变量，只有project"
   ]
  },
  {
   "cell_type": "markdown",
   "metadata": {},
   "source": [
    "https://www.imooc.com/article/14652   全局变量等，在后面def 和 class 讲完再讲"
   ]
  },
  {
   "cell_type": "markdown",
   "metadata": {},
   "source": [
    "## 使print更整洁"
   ]
  },
  {
   "cell_type": "markdown",
   "metadata": {},
   "source": [
    "### .format() "
   ]
  },
  {
   "cell_type": "code",
   "execution_count": 3,
   "metadata": {},
   "outputs": [
    {
     "data": {
      "text/plain": [
       "'The cost of apples is 10, and of pears is 19,and of grapes is 35'"
      ]
     },
     "execution_count": 3,
     "metadata": {},
     "output_type": "execute_result"
    }
   ],
   "source": [
    "'The cost of apples is {}, and of pears is {},and of grapes is {}'.format('10',19,35)  #也可以是变量"
   ]
  },
  {
   "cell_type": "code",
   "execution_count": 2,
   "metadata": {},
   "outputs": [
    {
     "name": "stdout",
     "output_type": "stream",
     "text": [
      "a=10,b=20\n"
     ]
    }
   ],
   "source": [
    "a = 20\n",
    "b = 10\n",
    "a,b = b,a\n",
    "print('a={},b={}'.format(a,b))"
   ]
  },
  {
   "cell_type": "markdown",
   "metadata": {},
   "source": [
    "注意，在此段代码中完成a,b值的交换，仅仅用了一个很方便的语句 a,b = b,a <br/>\n",
    "这也是由于上文所讲python是将project关联到name上，每个project在内存中是独立存在的，因此不需要修改存储内容，只需要交换关联就可以了"
   ]
  },
  {
   "cell_type": "markdown",
   "metadata": {},
   "source": [
    "### 使用%占位"
   ]
  },
  {
   "cell_type": "code",
   "execution_count": null,
   "metadata": {},
   "outputs": [],
   "source": []
  },
  {
   "cell_type": "markdown",
   "metadata": {},
   "source": [
    "### 使用 \\ 换行 - 转译"
   ]
  },
  {
   "cell_type": "markdown",
   "metadata": {},
   "source": [
    "\\也用来转译"
   ]
  },
  {
   "cell_type": "code",
   "execution_count": null,
   "metadata": {},
   "outputs": [],
   "source": []
  },
  {
   "cell_type": "code",
   "execution_count": null,
   "metadata": {},
   "outputs": [],
   "source": []
  },
  {
   "cell_type": "markdown",
   "metadata": {},
   "source": [
    "# 数据类型之进阶操作"
   ]
  },
  {
   "cell_type": "markdown",
   "metadata": {},
   "source": [
    "## str 字符串"
   ]
  },
  {
   "cell_type": "markdown",
   "metadata": {},
   "source": [
    "说点什么......"
   ]
  },
  {
   "cell_type": "markdown",
   "metadata": {},
   "source": [
    "### 切片"
   ]
  },
  {
   "cell_type": "code",
   "execution_count": 2,
   "metadata": {},
   "outputs": [
    {
     "data": {
      "text/plain": [
       "'hello'"
      ]
     },
     "execution_count": 2,
     "metadata": {},
     "output_type": "execute_result"
    }
   ],
   "source": [
    "hello = \"hello python world I'm a novice.\"  #注意，除了用\\转译，灵活运用双引号和单引号可以避免不必要的麻烦\n",
    "hello[0:5]"
   ]
  },
  {
   "cell_type": "markdown",
   "metadata": {},
   "source": [
    "示例代码中，我们完成了一次切片，目的是输出变量hello中的前五个字符'hello'.<br/>\n",
    "也许你已经发现了，python计算个数是从0开始的。此处的0可以省略。<br/>\n",
    "正向切片如上，也可以进行反向切片。试试运行以下两个语句："
   ]
  },
  {
   "cell_type": "code",
   "execution_count": null,
   "metadata": {},
   "outputs": [],
   "source": [
    "hello[:5]"
   ]
  },
  {
   "cell_type": "code",
   "execution_count": null,
   "metadata": {},
   "outputs": [],
   "source": [
    "hello[-7:]"
   ]
  },
  {
   "cell_type": "markdown",
   "metadata": {},
   "source": [
    "python从0开始计数，那么对于hello[0:5]可能产生一些疑问，0~5显然是6个数字，但是只输出了5个字符 <br/>\n",
    "实际上，切片的计数规则是：[a,b]，输出a到b-1位的字符。反向切片同样适用，前位按数值输出，后位按数值-1输出。"
   ]
  },
  {
   "cell_type": "code",
   "execution_count": null,
   "metadata": {},
   "outputs": [],
   "source": [
    "#请分别用正切，反切，切出'I'm'"
   ]
  },
  {
   "cell_type": "code",
   "execution_count": 2,
   "metadata": {},
   "outputs": [
    {
     "data": {
      "text/plain": [
       "'hlph'"
      ]
     },
     "execution_count": 2,
     "metadata": {},
     "output_type": "execute_result"
    }
   ],
   "source": [
    "hello[:12:3]  #可以多步切片，3为步长"
   ]
  },
  {
   "cell_type": "markdown",
   "metadata": {},
   "source": [
    "可以利用切片，进行字符串倒序显示："
   ]
  },
  {
   "cell_type": "code",
   "execution_count": 3,
   "metadata": {},
   "outputs": [
    {
     "data": {
      "text/plain": [
       "\".ecivon a m'I dlrow nohtyp olleh\""
      ]
     },
     "execution_count": 3,
     "metadata": {},
     "output_type": "execute_result"
    }
   ],
   "source": [
    "hello[::-1]"
   ]
  },
  {
   "cell_type": "code",
   "execution_count": null,
   "metadata": {},
   "outputs": [],
   "source": []
  },
  {
   "cell_type": "markdown",
   "metadata": {},
   "source": []
  },
  {
   "cell_type": "code",
   "execution_count": null,
   "metadata": {},
   "outputs": [],
   "source": []
  },
  {
   "cell_type": "code",
   "execution_count": 8,
   "metadata": {},
   "outputs": [
    {
     "name": "stdout",
     "output_type": "stream",
     "text": [
      "    hello python world I'm a novice.    \n",
      "hello python world I'm a novice.\n",
      "%%%%hello python world I'm a novice.%%%%\n"
     ]
    }
   ],
   "source": [
    "print(hello.center(40))    #全句长度40，hello居中显示\n",
    "print(hello.center(10))    #如果指定长度还没有字符串本身长，输出原字符串\n",
    "print(hello.center(40,'%'))   #空出来的地方可以指定用什么字符来填充，注意别忘了引号，不输入默认用空格"
   ]
  },
  {
   "cell_type": "markdown",
   "metadata": {},
   "source": [
    "### 注意：以上所有操作没有改变原字符串，而是生成了一个新的字符串，还记得为什么吗？"
   ]
  },
  {
   "cell_type": "markdown",
   "metadata": {},
   "source": [
    "忘记原因请复习可变与不可变的内容。下例，注意两个id地址是不一样的，说明不是在原字符串上进行操作"
   ]
  },
  {
   "cell_type": "code",
   "execution_count": 6,
   "metadata": {},
   "outputs": [
    {
     "data": {
      "text/plain": [
       "(2316896870624, 2316933427600)"
      ]
     },
     "execution_count": 6,
     "metadata": {},
     "output_type": "execute_result"
    }
   ],
   "source": [
    "hello = \"hello python world I'm a novice.\" \n",
    "hello_again = hello.capitalize()     #全句第一个字母大写，其余无论大小写全转化为小写\n",
    "id(hello),id(hello_again)"
   ]
  },
  {
   "cell_type": "code",
   "execution_count": 7,
   "metadata": {},
   "outputs": [
    {
     "name": "stdout",
     "output_type": "stream",
     "text": [
      "HELLO PYTHON WORLD I'M A NOVICE.\n",
      "hello python world i'm a novice.\n"
     ]
    }
   ],
   "source": [
    "#题外话\n",
    "print(hello.upper())\n",
    "print(hello.lower())"
   ]
  },
  {
   "cell_type": "markdown",
   "metadata": {},
   "source": []
  },
  {
   "cell_type": "code",
   "execution_count": null,
   "metadata": {},
   "outputs": [],
   "source": []
  },
  {
   "cell_type": "code",
   "execution_count": null,
   "metadata": {},
   "outputs": [],
   "source": []
  },
  {
   "cell_type": "markdown",
   "metadata": {},
   "source": [
    "## list 列表"
   ]
  },
  {
   "cell_type": "markdown",
   "metadata": {},
   "source": [
    "列表可容纳任意数量、任意类型的变量，不要求元素类型保持一致。列表中的元素还可以是列表。"
   ]
  },
  {
   "cell_type": "code",
   "execution_count": 7,
   "metadata": {},
   "outputs": [
    {
     "name": "stdout",
     "output_type": "stream",
     "text": [
      "['3', 4, True]\n",
      "True\n",
      "None\n"
     ]
    }
   ],
   "source": [
    "alist = []           #创建一个空列表\n",
    "#alist = \n",
    "alist.append('3')    # .append 向列表里添加内容，一次只添加一个，一般按添加的顺序排列\n",
    "alist.append(4)\n",
    "alist.append(True)    \n",
    "print(alist)         #列表是可变类型，在原id地址上修改\n",
    "print(alist[2])      #按位查询，超出列表长度则报错"
   ]
  },
  {
   "cell_type": "code",
   "execution_count": 10,
   "metadata": {},
   "outputs": [
    {
     "data": {
      "text/plain": [
       "[]"
      ]
     },
     "execution_count": 10,
     "metadata": {},
     "output_type": "execute_result"
    }
   ],
   "source": [
    "alist.clear() #清空列表\n",
    "alist"
   ]
  },
  {
   "cell_type": "markdown",
   "metadata": {},
   "source": [
    "list和str同为序列，某些用法相通，请尝试：创建list类型变量，①返回列表长度 ②使用+ 实现合并显示 ③使用* 实现重复输出"
   ]
  },
  {
   "cell_type": "code",
   "execution_count": 1,
   "metadata": {},
   "outputs": [
    {
     "data": {
      "text/plain": [
       "5"
      ]
     },
     "execution_count": 1,
     "metadata": {},
     "output_type": "execute_result"
    }
   ],
   "source": [
    "list_type = []"
   ]
  },
  {
   "cell_type": "code",
   "execution_count": null,
   "metadata": {},
   "outputs": [],
   "source": [
    "len(list_type)"
   ]
  },
  {
   "cell_type": "code",
   "execution_count": null,
   "metadata": {
    "collapsed": true
   },
   "outputs": [],
   "source": [
    "another_list_type = []"
   ]
  },
  {
   "cell_type": "code",
   "execution_count": null,
   "metadata": {},
   "outputs": [],
   "source": [
    "list_type + another_list_type"
   ]
  },
  {
   "cell_type": "code",
   "execution_count": null,
   "metadata": {},
   "outputs": [],
   "source": [
    "list_type * 4"
   ]
  },
  {
   "cell_type": "markdown",
   "metadata": {},
   "source": [
    "如果让两个列表型变量相等，则它们的id相同，因此所有的修改将在原id原内容上进行。还记得为什么吗？因为 name = project,左边的变量名只是一个“代号”，它指向project的地址，如果这个project是一个变量，则实际上两变量指向的地址是相同的，完整的链条为new_name=name=project。修改列表内容进行验证："
   ]
  },
  {
   "cell_type": "code",
   "execution_count": 2,
   "metadata": {},
   "outputs": [
    {
     "data": {
      "text/plain": [
       "(2384458864008, 2384458864008)"
      ]
     },
     "execution_count": 2,
     "metadata": {},
     "output_type": "execute_result"
    }
   ],
   "source": [
    "one_list = [1,2,3,4,5]\n",
    "one_list_too = one_list\n",
    "id(one_list),id(one_list_too)"
   ]
  },
  {
   "cell_type": "code",
   "execution_count": 7,
   "metadata": {},
   "outputs": [
    {
     "name": "stdout",
     "output_type": "stream",
     "text": [
      "[1, 2, 3, 4, 5]\n",
      "[1, 2, 3, 4, 5]\n"
     ]
    }
   ],
   "source": [
    "print(one_list)\n",
    "print(one_list_too)"
   ]
  },
  {
   "cell_type": "code",
   "execution_count": 2,
   "metadata": {},
   "outputs": [
    {
     "name": "stdout",
     "output_type": "stream",
     "text": [
      "[1, 2, 400, 4, 5]\n",
      "[1, 2, 400, 4, 5]\n"
     ]
    }
   ],
   "source": [
    "one_list_too[2]=400\n",
    "print(one_list_too)\n",
    "print(one_list)     #指向地址相同，表现为原变量也进行了修改"
   ]
  },
  {
   "cell_type": "markdown",
   "metadata": {},
   "source": [
    "使用.copy可避免原list的修改，copy顾名思义就是把原列表复制一份过去，示例："
   ]
  },
  {
   "cell_type": "code",
   "execution_count": 7,
   "metadata": {},
   "outputs": [
    {
     "name": "stdout",
     "output_type": "stream",
     "text": [
      "[1, 2, 3, 4, '4 star']\n",
      "[1, 2, 3, 4, '4 star']\n"
     ]
    },
    {
     "data": {
      "text/plain": [
       "(2384458827144, 2384458828808)"
      ]
     },
     "execution_count": 7,
     "metadata": {},
     "output_type": "execute_result"
    }
   ],
   "source": [
    "one_list = [1,2,3,4,'4 star']\n",
    "one_list_too = one_list.copy()\n",
    "print(one_list)\n",
    "print(one_list_too)\n",
    "id(one_list),id(one_list_too)"
   ]
  },
  {
   "cell_type": "markdown",
   "metadata": {},
   "source": [
    "### 深复制与浅复制"
   ]
  },
  {
   "cell_type": "markdown",
   "metadata": {},
   "source": [
    "https://blog.csdn.net/u011630575/article/details/78604226  "
   ]
  },
  {
   "cell_type": "code",
   "execution_count": 18,
   "metadata": {},
   "outputs": [
    {
     "name": "stdout",
     "output_type": "stream",
     "text": [
      "[1, 2, 3, 4, 5, [9999, 0]]\n",
      "[1, 2, 3, 4, 5, [9999, 0]]\n"
     ]
    },
    {
     "data": {
      "text/plain": [
       "(2131527468360, 2131527468680)"
      ]
     },
     "execution_count": 18,
     "metadata": {},
     "output_type": "execute_result"
    }
   ],
   "source": [
    "one_list = [1,2,3,4,5,[1,0]]\n",
    "one_list_too = one_list.copy()     \n",
    "one_list_too[-1][0]=9999\n",
    "print(one_list_too)\n",
    "print(one_list)\n",
    "id(one_list),id(one_list_too)"
   ]
  },
  {
   "cell_type": "code",
   "execution_count": 2,
   "metadata": {},
   "outputs": [
    {
     "data": {
      "text/plain": [
       "(2217054480208, 2217054480208)"
      ]
     },
     "execution_count": 2,
     "metadata": {},
     "output_type": "execute_result"
    }
   ],
   "source": [
    "id(one_list_too[-1][0]),id(one_list[-1][0])"
   ]
  },
  {
   "cell_type": "markdown",
   "metadata": {},
   "source": [
    "而使用copy.deepcopy()进行的复制为深复制，注意id"
   ]
  },
  {
   "cell_type": "code",
   "execution_count": 20,
   "metadata": {},
   "outputs": [
    {
     "data": {
      "text/plain": [
       "(2131527443336, 2131527468360)"
      ]
     },
     "execution_count": 20,
     "metadata": {},
     "output_type": "execute_result"
    }
   ],
   "source": [
    "import copy\n",
    "one_list_too = copy.deepcopy(one_list)\n",
    "id(one_list_too),id(one_list)\n",
    "#上例的copy()也可以用copy.copy()\n",
    "# import copy\n",
    "# one_list_too = copy.copy(one_list) "
   ]
  },
  {
   "cell_type": "code",
   "execution_count": 21,
   "metadata": {},
   "outputs": [
    {
     "data": {
      "text/plain": [
       "(2131550395184, 2131550395184)"
      ]
     },
     "execution_count": 21,
     "metadata": {},
     "output_type": "execute_result"
    }
   ],
   "source": [
    "id(one_list_too[-1][0]),id(one_list[-1][0])"
   ]
  },
  {
   "cell_type": "markdown",
   "metadata": {},
   "source": [
    "生成数字列表  https://blog.csdn.net/mars_xiaolei/article/details/77965149"
   ]
  },
  {
   "cell_type": "code",
   "execution_count": null,
   "metadata": {},
   "outputs": [],
   "source": []
  },
  {
   "cell_type": "markdown",
   "metadata": {},
   "source": [
    "## tuple 元组"
   ]
  },
  {
   "cell_type": "markdown",
   "metadata": {},
   "source": [
    "元组是一种不可变类型的变量，其他性质与列表类似。可以创建包含元素的元组，也可以创建空元组："
   ]
  },
  {
   "cell_type": "code",
   "execution_count": 11,
   "metadata": {},
   "outputs": [
    {
     "name": "stdout",
     "output_type": "stream",
     "text": [
      "('hello', 3)\n",
      "('hello', 3, 'hello', 3, 'hello', 3)\n"
     ]
    }
   ],
   "source": [
    "a_tuple = ('hello',3)\n",
    "print(a_tuple)\n",
    "print(a_tuple * 3)"
   ]
  },
  {
   "cell_type": "code",
   "execution_count": 6,
   "metadata": {},
   "outputs": [
    {
     "data": {
      "text/plain": [
       "tuple"
      ]
     },
     "execution_count": 6,
     "metadata": {},
     "output_type": "execute_result"
    }
   ],
   "source": [
    "a_tuple = tuple()\n",
    "type(a_tuple)"
   ]
  },
  {
   "cell_type": "code",
   "execution_count": 5,
   "metadata": {},
   "outputs": [
    {
     "name": "stdout",
     "output_type": "stream",
     "text": [
      "(3, 5, 7, 9, [258, 11], 3)\n"
     ]
    },
    {
     "data": {
      "text/plain": [
       "tuple"
      ]
     },
     "execution_count": 5,
     "metadata": {},
     "output_type": "execute_result"
    }
   ],
   "source": [
    "a_tuple = (3,5,7,9,[258,11],3)\n",
    "print(a_tuple)\n",
    "type(a_tuple)"
   ]
  },
  {
   "cell_type": "markdown",
   "metadata": {},
   "source": [
    "由于tuple为不可变类型，操作函数就少的多，只有 .count()与 .index()"
   ]
  },
  {
   "cell_type": "code",
   "execution_count": 6,
   "metadata": {},
   "outputs": [
    {
     "data": {
      "text/plain": [
       "2"
      ]
     },
     "execution_count": 6,
     "metadata": {},
     "output_type": "execute_result"
    }
   ],
   "source": [
    "a_tuple.count(3)  #计数，括号里为要求检索的元素，此处即：检索a_tuple中数字3的个数"
   ]
  },
  {
   "cell_type": "code",
   "execution_count": 7,
   "metadata": {},
   "outputs": [
    {
     "data": {
      "text/plain": [
       "0"
      ]
     },
     "execution_count": 7,
     "metadata": {},
     "output_type": "execute_result"
    }
   ],
   "source": [
    "a_tuple.index(3)   #返回制定元素的第一次碰到的位数，括号里为要求检索的元素"
   ]
  },
  {
   "cell_type": "markdown",
   "metadata": {},
   "source": [
    "## dict 字典"
   ]
  },
  {
   "cell_type": "markdown",
   "metadata": {},
   "source": [
    "（可变性），dict某种程度上类似列表，之所以被称为“字典”，是因为它的形式是一个元素对应一个检索特征值，如同字典中一个字对应一个页码/检索地址。"
   ]
  },
  {
   "cell_type": "code",
   "execution_count": 1,
   "metadata": {},
   "outputs": [
    {
     "data": {
      "text/plain": [
       "dict"
      ]
     },
     "execution_count": 1,
     "metadata": {},
     "output_type": "execute_result"
    }
   ],
   "source": [
    "a_dict=dict()\n",
    "a_dict={}\n",
    "type(a_dict)"
   ]
  },
  {
   "cell_type": "code",
   "execution_count": 16,
   "metadata": {},
   "outputs": [
    {
     "data": {
      "text/plain": [
       "1"
      ]
     },
     "execution_count": 16,
     "metadata": {},
     "output_type": "execute_result"
    }
   ],
   "source": [
    "a_dict = { 'A':1,'B':2}    #以字母排序数字作为其对应的检索特征值\n",
    "a_dict['A']    #用[]检索元素'A'对应的特征值1，一次只能检索一个"
   ]
  },
  {
   "cell_type": "code",
   "execution_count": null,
   "metadata": {},
   "outputs": [],
   "source": []
  },
  {
   "cell_type": "markdown",
   "metadata": {},
   "source": []
  },
  {
   "cell_type": "code",
   "execution_count": null,
   "metadata": {},
   "outputs": [],
   "source": []
  },
  {
   "cell_type": "markdown",
   "metadata": {},
   "source": [
    "### 总结不同类型变量的创建标志："
   ]
  },
  {
   "cell_type": "code",
   "execution_count": 19,
   "metadata": {},
   "outputs": [
    {
     "name": "stdout",
     "output_type": "stream",
     "text": [
      "{'This is a dict.', 4}\n"
     ]
    }
   ],
   "source": [
    "str_type = 'This is a tring.'\n",
    "list_type = ['This is a list,and the lenth:',29] * 3\n",
    "tuple_type = ('This is a tuple.') * 3\n",
    "dict_type = {'This is a dict.',4} * 3"
   ]
  },
  {
   "cell_type": "markdown",
   "metadata": {},
   "source": [
    "可以看到，通过特定的符号可以很容易区分创建变量的类型。相较而言，a_variable = str()要别扭得多，那么为什么还要保留list(),dict()这种实现方式呢？如同我们使用int(),float()转换数字类型一样，常用来在需要的时候进行转换。某些时候list不太好用，比如，需要对已存在的某list添加检索功能，纯粹用list逻辑比较绕，而比较方便的方式就是把它转换成dict类型，如下："
   ]
  },
  {
   "cell_type": "code",
   "execution_count": 5,
   "metadata": {},
   "outputs": [
    {
     "name": "stdout",
     "output_type": "stream",
     "text": [
      "1\n"
     ]
    }
   ],
   "source": [
    "#dict类型介绍中检索A,B的示例代码，用list类型实现\n",
    "letter = ['A','B']    #发现新需求：最好能添加检索功能，如果用list类型怎么实现呢?\n",
    "number = [1,2]\n",
    "search_A = number[letter.index('A')]   #利用切片查询(number)和 .index()位置检索(letter)，根据number中元素的位置，找到letter中同位置的元素\n",
    "print(search_A)"
   ]
  },
  {
   "cell_type": "code",
   "execution_count": 7,
   "metadata": {},
   "outputs": [
    {
     "name": "stdout",
     "output_type": "stream",
     "text": [
      "<zip object at 0x000002AFDBF84F48>\n"
     ]
    }
   ],
   "source": [
    "zip(letter,number)  # zip()函数用来将指定的变量，转换为如同dict的一一对应的格式。list和tuple均可转换,且不需要类型一致"
   ]
  },
  {
   "cell_type": "code",
   "execution_count": 9,
   "metadata": {},
   "outputs": [
    {
     "data": {
      "text/plain": [
       "<zip at 0x2afdbf93ac8>"
      ]
     },
     "execution_count": 9,
     "metadata": {},
     "output_type": "execute_result"
    }
   ],
   "source": [
    "letter = ['A','B']    #假设：新需求为添加检索功能，如果用list类型怎么实现呢?\n",
    "number = (1,2)\n",
    "zip(letter,number)"
   ]
  },
  {
   "cell_type": "code",
   "execution_count": 10,
   "metadata": {},
   "outputs": [
    {
     "data": {
      "text/plain": [
       "{'A': 1, 'B': 2}"
      ]
     },
     "execution_count": 10,
     "metadata": {},
     "output_type": "execute_result"
    }
   ],
   "source": [
    "dict(zip(letter,number))  #转化为dict类型"
   ]
  },
  {
   "cell_type": "markdown",
   "metadata": {},
   "source": [
    "dict类型还有一系列函数专门用于这种转换、添加操作，后面用到的时候会再介绍。"
   ]
  },
  {
   "cell_type": "code",
   "execution_count": null,
   "metadata": {},
   "outputs": [],
   "source": []
  }
 ],
 "metadata": {
  "kernelspec": {
   "display_name": "Python 3",
   "language": "python",
   "name": "python3"
  },
  "language_info": {
   "codemirror_mode": {
    "name": "ipython",
    "version": 3
   },
   "file_extension": ".py",
   "mimetype": "text/x-python",
   "name": "python",
   "nbconvert_exporter": "python",
   "pygments_lexer": "ipython3",
   "version": "3.6.9"
  }
 },
 "nbformat": 4,
 "nbformat_minor": 2
}
