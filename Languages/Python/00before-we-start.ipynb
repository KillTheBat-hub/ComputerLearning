{
 "cells": [
  {
   "cell_type": "markdown",
   "metadata": {},
   "source": [
    "### 前言"
   ]
  },
  {
   "cell_type": "markdown",
   "metadata": {},
   "source": [
    "\n",
    "- 0编程基础学习者适用。\n",
    "\n",
    "- 此文档用jupyter notebook编写，python新手推安装anaconda。\n",
    "\n",
    "- jupyter适合入门编写简单程序、做图文笔记或教程，作为常规开发工具有些短板。此时请考虑各种IDE,比如pycharm。\n",
    "\n",
    "- 没有做示例的代码，也请自己动手敲敲，多动手！多实践！但是不要沉迷于各种试错，把问题记下然后继续快速学习，有时候出错误可能是因为有些东西按计划你还没有学到那里。\n",
    "\n",
    "- 请记住python是简单的语言，非常好上手，不要有畏惧心理。\n",
    "\n",
    "- 友情提示：虽然本教程使用中文，但请尽快适应英语作为工作语言。"
   ]
  },
  {
   "cell_type": "markdown",
   "metadata": {},
   "source": [
    "### 参考资料"
   ]
  },
  {
   "cell_type": "markdown",
   "metadata": {},
   "source": []
  },
  {
   "cell_type": "markdown",
   "metadata": {},
   "source": [
    "### 进阶路线"
   ]
  },
  {
   "cell_type": "markdown",
   "metadata": {},
   "source": []
  }
 ],
 "metadata": {
  "kernelspec": {
   "display_name": "Python 3",
   "language": "python",
   "name": "python3"
  },
  "language_info": {
   "codemirror_mode": {
    "name": "ipython",
    "version": 3
   },
   "file_extension": ".py",
   "mimetype": "text/x-python",
   "name": "python",
   "nbconvert_exporter": "python",
   "pygments_lexer": "ipython3",
   "version": "3.6.9"
  }
 },
 "nbformat": 4,
 "nbformat_minor": 4
}
